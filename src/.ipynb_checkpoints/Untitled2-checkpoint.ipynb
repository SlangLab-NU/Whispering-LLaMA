{
 "cells": [
  {
   "cell_type": "code",
   "execution_count": 6,
   "id": "0e6db84a-d7c4-4201-ad4b-beb0f3f01d46",
   "metadata": {},
   "outputs": [
    {
     "name": "stdout",
     "output_type": "stream",
     "text": [
      "iter-021000-loss-0.740.pth\n"
     ]
    }
   ],
   "source": [
    "import re\n",
    "\n",
    "files = [\n",
    "    'iter-018999-loss-0.747.pth',\n",
    "    'iter-019000-loss-0.745.pth',\n",
    "    'iter-020000-loss-0.750.pth',\n",
    "    'iter-021000-loss-0.740.pth',\n",
    "    'test'\n",
    "]\n",
    "root_path = '/path/to/your/files'\n",
    "\n",
    "# Function to extract the loss value from the file name\n",
    "def extract_loss(file_name):\n",
    "    match = re.search(r'-loss-([0-9.]+)\\.pth', file_name)\n",
    "    if match:\n",
    "        return float(match.group(1))\n",
    "    else:\n",
    "        return float('inf')\n",
    "\n",
    "# Find the file with the minimum loss\n",
    "min_loss_file = min(files, key=extract_loss)\n",
    "print(min_loss_file)"
   ]
  },
  {
   "cell_type": "code",
   "execution_count": null,
   "id": "f0b4d96a",
   "metadata": {},
   "outputs": [],
   "source": []
  }
 ],
 "metadata": {
  "kernelspec": {
   "display_name": "Python 3",
   "language": "python",
   "name": "python3"
  },
  "language_info": {
   "codemirror_mode": {
    "name": "ipython",
    "version": 3
   },
   "file_extension": ".py",
   "mimetype": "text/x-python",
   "name": "python",
   "nbconvert_exporter": "python",
   "pygments_lexer": "ipython3",
   "version": "3.8.19"
  }
 },
 "nbformat": 4,
 "nbformat_minor": 5
}
