{
 "cells": [
  {
   "cell_type": "code",
   "execution_count": 4,
   "metadata": {},
   "outputs": [
    {
     "name": "stdout",
     "output_type": "stream",
     "text": [
      "Renamed 'torgo_F01_large-v2_phoneme_test.pt' to 'torgo_F01_large-v2_test.pt'\n",
      "Renamed 'torgo_F01_large-v2_phoneme_train.pt' to 'torgo_F01_large-v2_train.pt'\n",
      "Renamed 'torgo_F01_large-v2_phoneme_val.pt' to 'torgo_F01_large-v2_val.pt'\n",
      "Renamed 'torgo_F03_large-v2_phoneme_test.pt' to 'torgo_F03_large-v2_test.pt'\n",
      "Renamed 'torgo_F03_large-v2_phoneme_train.pt' to 'torgo_F03_large-v2_train.pt'\n",
      "Renamed 'torgo_F03_large-v2_phoneme_val.pt' to 'torgo_F03_large-v2_val.pt'\n",
      "Renamed 'torgo_F04_large-v2_phoneme_test.pt' to 'torgo_F04_large-v2_test.pt'\n",
      "Renamed 'torgo_F04_large-v2_phoneme_train.pt' to 'torgo_F04_large-v2_train.pt'\n",
      "Renamed 'torgo_F04_large-v2_phoneme_val.pt' to 'torgo_F04_large-v2_val.pt'\n",
      "Renamed 'torgo_M01_large-v2_phoneme_test.pt' to 'torgo_M01_large-v2_test.pt'\n",
      "Renamed 'torgo_M01_large-v2_phoneme_train.pt' to 'torgo_M01_large-v2_train.pt'\n",
      "Renamed 'torgo_M01_large-v2_phoneme_val.pt' to 'torgo_M01_large-v2_val.pt'\n",
      "Renamed 'torgo_M02_large-v2_phoneme_test.pt' to 'torgo_M02_large-v2_test.pt'\n",
      "Renamed 'torgo_M02_large-v2_phoneme_train.pt' to 'torgo_M02_large-v2_train.pt'\n",
      "Renamed 'torgo_M02_large-v2_phoneme_val.pt' to 'torgo_M02_large-v2_val.pt'\n",
      "Renamed 'torgo_M03_large-v2_phoneme_test.pt' to 'torgo_M03_large-v2_test.pt'\n",
      "Renamed 'torgo_M03_large-v2_phoneme_train.pt' to 'torgo_M03_large-v2_train.pt'\n",
      "Renamed 'torgo_M03_large-v2_phoneme_val.pt' to 'torgo_M03_large-v2_val.pt'\n",
      "Renamed 'torgo_M04_large-v2_phoneme_test.pt' to 'torgo_M04_large-v2_test.pt'\n",
      "Renamed 'torgo_M04_large-v2_phoneme_train.pt' to 'torgo_M04_large-v2_train.pt'\n",
      "Renamed 'torgo_M04_large-v2_phoneme_val.pt' to 'torgo_M04_large-v2_val.pt'\n",
      "Renamed 'torgo_M05_large-v2_phoneme_test.pt' to 'torgo_M05_large-v2_test.pt'\n",
      "Renamed 'torgo_M05_large-v2_phoneme_train.pt' to 'torgo_M05_large-v2_train.pt'\n",
      "Renamed 'torgo_M05_large-v2_phoneme_val.pt' to 'torgo_M05_large-v2_val.pt'\n"
     ]
    }
   ],
   "source": [
    "import os\n",
    "import re\n",
    "\n",
    "def rename_files(folder_path):\n",
    "    # Get a list of all files in the directory\n",
    "    files = os.listdir(folder_path)\n",
    "    \n",
    "    # Define the regex pattern to match the files\n",
    "    pattern = re.compile(r\"(torgo_[A-Za-z0-9]+_large-v2)_phoneme_(\\w+)\\.pt\")\n",
    "    \n",
    "    for filename in files:\n",
    "        # Match the pattern\n",
    "        match = pattern.match(filename)\n",
    "        if match:\n",
    "            # Construct the new filename\n",
    "            new_filename = f\"{match.group(1)}_{match.group(2)}.pt\"\n",
    "            \n",
    "            # Get the full paths\n",
    "            old_file = os.path.join(folder_path, filename)\n",
    "            new_file = os.path.join(folder_path, new_filename)\n",
    "            \n",
    "            # Rename the file\n",
    "            os.rename(old_file, new_file)\n",
    "            print(f\"Renamed '{filename}' to '{new_filename}'\")\n",
    "\n",
    "# Specify the folder path\n",
    "folder_path = '/work/van-speech-nlp/jindaznb/jslpnb/mllm_expriments/Whispering-LLaMA/Inference/gs_inferences/single_phoneme'\n",
    "\n",
    "# Call the rename function\n",
    "rename_files(folder_path)"
   ]
  },
  {
   "cell_type": "code",
   "execution_count": null,
   "metadata": {},
   "outputs": [],
   "source": []
  }
 ],
 "metadata": {
  "kernelspec": {
   "display_name": "Python 3",
   "language": "python",
   "name": "python3"
  },
  "language_info": {
   "codemirror_mode": {
    "name": "ipython",
    "version": 3
   },
   "file_extension": ".py",
   "mimetype": "text/x-python",
   "name": "python",
   "nbconvert_exporter": "python",
   "pygments_lexer": "ipython3",
   "version": "3.10.14"
  }
 },
 "nbformat": 4,
 "nbformat_minor": 2
}
