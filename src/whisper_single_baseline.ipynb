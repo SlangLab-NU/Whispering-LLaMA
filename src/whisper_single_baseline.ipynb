{
 "cells": [
  {
   "cell_type": "code",
   "execution_count": 1,
   "id": "891c2b19-349a-4691-afe0-f6b6656b92df",
   "metadata": {},
   "outputs": [
    {
     "name": "stdout",
     "output_type": "stream",
     "text": [
      "/work/van-speech-nlp/jindaznb/jslpnb/mllm_expriments/Whispering-LLaMA\n"
     ]
    }
   ],
   "source": [
    "cd .."
   ]
  },
  {
   "cell_type": "code",
   "execution_count": 18,
   "id": "2a929a2c-1d64-4912-b512-51edb18ace38",
   "metadata": {},
   "outputs": [],
   "source": [
    "import whisper_openAI.whisper as whisper"
   ]
  },
  {
   "cell_type": "code",
   "execution_count": 3,
   "id": "e1cfcc55-30b7-49ed-a6cc-07d08b0d400a",
   "metadata": {},
   "outputs": [
    {
     "name": "stdout",
     "output_type": "stream",
     "text": [
      "The file /work/van-speech-nlp/data/torgo/F01/Session1/wav_arrayMic/0006.wav exists.\n"
     ]
    }
   ],
   "source": [
    "import os\n",
    "\n",
    "# Replace 'file_path' with the path to your file\n",
    "file_path = '/work/van-speech-nlp/data/torgo/F01/Session1/wav_arrayMic/0006.wav'\n",
    "\n",
    "if os.path.exists(file_path):\n",
    "    print(f\"The file {file_path} exists.\")\n",
    "else:\n",
    "    print(f\"The file {file_path} does not exist.\")"
   ]
  },
  {
   "cell_type": "code",
   "execution_count": 26,
   "id": "de738393-ddec-4e93-999c-49b12caeecc1",
   "metadata": {},
   "outputs": [],
   "source": [
    "from pprint import pprint"
   ]
  },
  {
   "cell_type": "code",
   "execution_count": 31,
   "id": "6e5b0c5c-7900-4c7f-805f-a67dd41d617b",
   "metadata": {},
   "outputs": [
    {
     "name": "stdout",
     "output_type": "stream",
     "text": [
      "nick\n"
     ]
    }
   ],
   "source": [
    "model,_ = whisper.load_model(\"tiny\")\n",
    "\n",
    "# load audio and pad/trim it to fit 30 seconds\n",
    "audio = whisper.load_audio(file_path)\n",
    "audio = whisper.pad_or_trim(audio)\n",
    "\n",
    "# make log-Mel spectrogram and move to the same device as the model\n",
    "mel = whisper.log_mel_spectrogram(audio).to(model.device)\n",
    "\n",
    "# detect the spoken language\n",
    "# _, probs = model.detect_language(mel)\n",
    "# print(f\"Detected language: {max(probs, key=probs.get)}\")\n",
    "\n",
    "# decode the audio\n",
    "options = whisper.DecodingOptions(fp16=False, without_timestamps=True,language='english')\n",
    "result,_ = whisper.decode(model, mel, options)\n",
    "\n",
    "# print the recognized text\n",
    "result_text = ''.join(result)\n",
    "\n",
    "# Print the recognized text\n",
    "print(result_text)"
   ]
  },
  {
   "cell_type": "code",
   "execution_count": null,
   "id": "73b47866-f02a-4a88-8e9f-abdf90c04d4d",
   "metadata": {},
   "outputs": [],
   "source": []
  }
 ],
 "metadata": {
  "kernelspec": {
   "display_name": "Python 3 (ipykernel)",
   "language": "python",
   "name": "python3"
  },
  "language_info": {
   "codemirror_mode": {
    "name": "ipython",
    "version": 3
   },
   "file_extension": ".py",
   "mimetype": "text/x-python",
   "name": "python",
   "nbconvert_exporter": "python",
   "pygments_lexer": "ipython3",
   "version": "3.9.19"
  }
 },
 "nbformat": 4,
 "nbformat_minor": 5
}
