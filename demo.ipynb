{
 "cells": [
  {
   "cell_type": "code",
   "execution_count": 1,
   "metadata": {},
   "outputs": [
    {
     "name": "stdout",
     "output_type": "stream",
     "text": [
      "Updated git hooks.\n",
      "Git LFS initialized.\n",
      "Cloning into 'Whispering-LLaMA'...\n",
      "remote: Enumerating objects: 26, done.\u001b[K\n",
      "remote: Total 26 (delta 0), reused 0 (delta 0), pack-reused 26\u001b[K\n",
      "Unpacking objects: 100% (26/26), 3.21 KiB | 548.00 KiB/s, done.\n",
      "^C\n",
      "warning: Clone succeeded, but checkout failed.\n",
      "You can inspect what was checked out with 'git status'\n",
      "and retry with 'git restore --source=HEAD :/'\n",
      "\n",
      "\n",
      "Exiting because of \"interrupt\" signal.\n"
     ]
    }
   ],
   "source": [
    "# clone the repo\n",
    "# !git clone https://github.com/Srijith-rkr/Whispering-LLaMA.git\n",
    "\n",
    "# Clone the weights and rename the folder as weights \n",
    "!git lfs install\n",
    "!git lfs clone https://huggingface.co/Srijith-rkr/Whispering-LLaMA \n",
    "\n",
    "# You can also download the weights using the UI in HuggingFace from the repo 'https://huggingface.co/Srijith-rkr/Whispering-LLaMA' if you have issues with git lfs\n",
    "\n",
    "# Refer to the READ ME file to build your environment"
   ]
  },
  {
   "cell_type": "code",
   "execution_count": 1,
   "metadata": {},
   "outputs": [],
   "source": [
    "import torch \n",
    "\n",
    "# To merge the Alpaca weigts from the HuggingFace repo we just cloned\n",
    "\n",
    "a = torch.load('weights/alpaca_a.pth')\n",
    "b = torch.load('weights/alpaca_b.pth')\n",
    "c = torch.load('weights/alpaca_c.pth')\n",
    "\n",
    "# merging\n",
    "alpaca_checkpoint = a|b|c\n",
    "\n",
    "# saving\n",
    "torch.save(alpaca_checkpoint,'weights/alpaca.pth')\n",
    "print(\"saved\")"
   ]
  },
  {
   "cell_type": "code",
   "execution_count": null,
   "metadata": {},
   "outputs": [
    {
     "ename": "",
     "evalue": "",
     "output_type": "error",
     "traceback": [
      "\u001b[1;31mThe kernel failed to start due to the missing module 'exceptiongroup'. Consider installing this module.\n",
      "\u001b[1;31mClick <a href='https://aka.ms/kernelFailuresMissingModule'>here</a> for more info."
     ]
    }
   ],
   "source": [
    "import wandb\n",
    "wandb.login()"
   ]
  },
  {
   "cell_type": "code",
   "execution_count": 5,
   "metadata": {},
   "outputs": [
    {
     "name": "stdout",
     "output_type": "stream",
     "text": [
      "17Science and Technology.json  25Entertainment.json  gigaspeech_train.pt\n"
     ]
    }
   ],
   "source": [
    "!ls Inference/gs_inferences"
   ]
  },
  {
   "cell_type": "code",
   "execution_count": 3,
   "metadata": {},
   "outputs": [],
   "source": [
    "import torch\n",
    "torch.backends.cuda.enable_mem_efficient_sdp(False)\n",
    "torch.backends.cuda.enable_flash_sdp(False)"
   ]
  },
  {
   "cell_type": "code",
   "execution_count": null,
   "metadata": {},
   "outputs": [],
   "source": [
    "### To train the model\n",
    "!python training/WL-S.py --lr 1e-3 \\\n",
    "    --d 1 --pretrained_path 'weights/alpaca.pth' \\\n",
    "    --tokenizer_path 'weights/tokenizer.model' \\\n",
    "    --data 'Inference/gs_inferences/17'\n",
    "\n",
    "# Refer to https://github.com/Srijith-rkr/Whispering-LLaMA/tree/main/data_preparation to make your own dataset\n"
   ]
  },
  {
   "cell_type": "code",
   "execution_count": 1,
   "metadata": {},
   "outputs": [
    {
     "name": "stdout",
     "output_type": "stream",
     "text": [
      "/work/van-speech-nlp/jindaznb/mmenv/lib/python3.9/site-packages/lightning/fabric/plugins/environments/slurm.py:204: The `srun` command is available on your system but is not used. HINT: If your intention is to run Lightning on SLURM, prepend your python command with `srun` like so: srun python Inference/WL-S.py --root runs/WL_S_0.001/ --save_dir ...\n",
      "Loading model ...\n",
      "loaded LLaMA checkpoint\n",
      "loaded Whisper checkpoint\n",
      "eveything except llama model loaded\n",
      "runs/WL_S_0.001/iter-000001.pth\n",
      "runs/WL_S_0.001/iter-000002.pth\n",
      "runs/WL_S_0.001/iter-000003.pth\n",
      "runs/WL_S_0.001/iter-000004.pth\n",
      "runs/WL_S_0.001/iter-000005.pth\n",
      "runs/WL_S_0.001/iter-000006.pth\n",
      "runs/WL_S_0.001/iter-000007.pth\n",
      "runs/WL_S_0.001/iter-000008.pth\n",
      "runs/WL_S_0.001/iter-000009.pth\n",
      "runs/WL_S_0.001/iter-000010.pth\n",
      "runs/WL_S_0.001/iter-000011.pth\n",
      "runs/WL_S_0.001/iter-000012.pth\n",
      "loaded Adapter checkpoint\n",
      "Time to load model: 0.10 seconds.\n",
      "100%|███████████████████████████████████████| 1000/1000 [32:03<00:00,  1.92s/it]\n",
      "For runs/WL_S_0.001/iter-000012.pth\n",
      "WER is 0.09907763259031514\n",
      "Ground truth matches is 444/1000\n",
      "runs/Inference/WL_S_0.001.json\n",
      "the post string normalization wer is\n",
      "WER 0.06325903151421983\n",
      "645 / 1000\n",
      "*********************\n",
      "{'epoch': 12, 'WER': 9.907763259031514, 'WER_post': 6.325903151421983, 'GTM': 44.4, 'GTM_post': 64.5}\n",
      "\u001b[0m"
     ]
    }
   ],
   "source": [
    "!model_name=\"WL_S_0.001\" && \\\n",
    "    save_dir=\"runs/Inference\" && \\\n",
    "    python Inference/WL-S.py \\\n",
    "    --root \"runs/${model_name}/\" \\\n",
    "    --save_dir \"${save_dir}\" \\\n",
    "    --pretrained_path \"weights/alpaca.pth\" \\\n",
    "    --tokenizer_path \"weights/tokenizer.model\" \\\n",
    "    --data_path \"Inference/gs_inferences/17_test.pt\""
   ]
  },
  {
   "cell_type": "code",
   "execution_count": 5,
   "metadata": {},
   "outputs": [
    {
     "name": "stdout",
     "output_type": "stream",
     "text": [
      "\n"
     ]
    }
   ],
   "source": [
    "print()"
   ]
  },
  {
   "cell_type": "code",
   "execution_count": null,
   "metadata": {},
   "outputs": [],
   "source": []
  }
 ],
 "metadata": {
  "kernelspec": {
   "display_name": "Python 3 (ipykernel)",
   "language": "python",
   "name": "python3"
  },
  "language_info": {
   "codemirror_mode": {
    "name": "ipython",
    "version": 3
   },
   "file_extension": ".py",
   "mimetype": "text/x-python",
   "name": "python",
   "nbconvert_exporter": "python",
   "pygments_lexer": "ipython3",
   "version": "3.9.19"
  }
 },
 "nbformat": 4,
 "nbformat_minor": 4
}
