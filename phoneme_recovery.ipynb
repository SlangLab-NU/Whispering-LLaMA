{
 "cells": [
  {
   "cell_type": "code",
   "execution_count": 1,
   "metadata": {},
   "outputs": [
    {
     "data": {
      "text/plain": [
       "['P ER0 M IH1 T', 'P ER1 M IH2 T']"
      ]
     },
     "execution_count": 1,
     "metadata": {},
     "output_type": "execute_result"
    }
   ],
   "source": [
    "import pronouncing\n",
    "pronouncing.phones_for_word(\"permit\")"
   ]
  },
  {
   "cell_type": "markdown",
   "metadata": {},
   "source": [
    "#  finds all of the words that end in “-iddle”:"
   ]
  },
  {
   "cell_type": "code",
   "execution_count": 2,
   "metadata": {},
   "outputs": [
    {
     "data": {
      "text/plain": [
       "['biddle', 'criddle', 'diddle', 'fiddle', 'friddle']"
      ]
     },
     "execution_count": 2,
     "metadata": {},
     "output_type": "execute_result"
    }
   ],
   "source": [
    "pronouncing.search(\"IH1 D AH0 L$\")[:5]"
   ]
  },
  {
   "cell_type": "markdown",
   "metadata": {},
   "source": [
    "# sometimes can't find anything"
   ]
  },
  {
   "cell_type": "code",
   "execution_count": 5,
   "metadata": {},
   "outputs": [
    {
     "data": {
      "text/plain": [
       "['permit', 'permits', 'permitted', 'permitting']"
      ]
     },
     "execution_count": 5,
     "metadata": {},
     "output_type": "execute_result"
    }
   ],
   "source": [
    "pronouncing.search(\"P ER0 M IH1 T\")"
   ]
  },
  {
   "cell_type": "code",
   "execution_count": 7,
   "metadata": {},
   "outputs": [
    {
     "data": {
      "text/plain": [
       "['HH AW1']"
      ]
     },
     "execution_count": 7,
     "metadata": {},
     "output_type": "execute_result"
    }
   ],
   "source": [
    "import pronouncing\n",
    "pronouncing.phones_for_word(\"how\")"
   ]
  },
  {
   "cell_type": "code",
   "execution_count": 8,
   "metadata": {},
   "outputs": [
    {
     "data": {
      "text/plain": [
       "['alhausie',\n",
       " 'boathouse',\n",
       " 'delahoussaye',\n",
       " 'haeussler',\n",
       " 'hao',\n",
       " 'hao-chi',\n",
       " 'hau',\n",
       " 'hauber',\n",
       " 'haubert',\n",
       " 'haubner',\n",
       " 'haubrich',\n",
       " 'hauenstein',\n",
       " 'hauenstein',\n",
       " 'hauer',\n",
       " 'haueter',\n",
       " 'haugen',\n",
       " 'hauger',\n",
       " 'haupert',\n",
       " 'hauppauge',\n",
       " 'hauptfuhrer',\n",
       " 'hauptman',\n",
       " 'hauptmann',\n",
       " 'haus',\n",
       " 'hausa',\n",
       " 'hausauer',\n",
       " 'hausch',\n",
       " 'hauschild',\n",
       " 'hauschildt',\n",
       " 'hause',\n",
       " 'hausen',\n",
       " 'hauser',\n",
       " 'hauserman',\n",
       " 'hausfeld',\n",
       " 'hausler',\n",
       " 'hausler',\n",
       " 'hausman',\n",
       " 'hausmann',\n",
       " 'hausner',\n",
       " 'hauss',\n",
       " 'hausser',\n",
       " 'haussler',\n",
       " 'haussler',\n",
       " 'haussmann',\n",
       " 'hauswirth',\n",
       " 'hauter',\n",
       " 'hauver',\n",
       " 'houchen',\n",
       " 'houchens',\n",
       " 'houchin',\n",
       " 'houchins',\n",
       " 'houck',\n",
       " 'houde',\n",
       " 'houdek',\n",
       " 'houg',\n",
       " 'houge',\n",
       " 'hougen',\n",
       " 'hougham',\n",
       " 'houghland',\n",
       " 'houghs',\n",
       " 'houghton',\n",
       " \"houghton's\",\n",
       " 'hougland',\n",
       " 'houk',\n",
       " 'houle',\n",
       " 'hound',\n",
       " 'hounded',\n",
       " 'hounding',\n",
       " 'hounds',\n",
       " 'hounshell',\n",
       " 'housand',\n",
       " 'housden',\n",
       " 'house',\n",
       " \"house's\",\n",
       " 'houseal',\n",
       " 'houseboat',\n",
       " 'houseboats',\n",
       " 'housebroken',\n",
       " 'housecleaning',\n",
       " 'housed',\n",
       " 'houseful',\n",
       " 'houseguest',\n",
       " 'houseguests',\n",
       " 'household',\n",
       " \"household's\",\n",
       " 'householder',\n",
       " 'householders',\n",
       " 'households',\n",
       " 'housekeeper',\n",
       " 'housekeepers',\n",
       " 'housekeeping',\n",
       " 'houseknecht',\n",
       " 'housel',\n",
       " 'houseman',\n",
       " \"houseman's\",\n",
       " 'housen',\n",
       " 'houser',\n",
       " 'houseraising',\n",
       " 'houses',\n",
       " 'houses',\n",
       " \"houses'\",\n",
       " 'houseware',\n",
       " 'housewares',\n",
       " 'housewarming',\n",
       " 'housewife',\n",
       " 'housewives',\n",
       " 'housework',\n",
       " 'houseworth',\n",
       " 'housewright',\n",
       " 'housh',\n",
       " 'housholder',\n",
       " 'housing',\n",
       " 'housings',\n",
       " 'houska',\n",
       " 'housley',\n",
       " 'housman',\n",
       " 'hout',\n",
       " 'houtchens',\n",
       " 'houten',\n",
       " \"houten's\",\n",
       " 'houtman',\n",
       " 'houts',\n",
       " 'houtz',\n",
       " 'houze',\n",
       " 'how',\n",
       " \"how'd\",\n",
       " \"how're\",\n",
       " \"how's\",\n",
       " 'howald',\n",
       " 'howard',\n",
       " \"howard's\",\n",
       " 'howarth',\n",
       " 'howat',\n",
       " 'howatt',\n",
       " 'howcroft',\n",
       " 'howden',\n",
       " 'howdeshell',\n",
       " 'howdy',\n",
       " 'howdydoody',\n",
       " 'howdyshell',\n",
       " 'howe',\n",
       " \"howe's\",\n",
       " 'howell',\n",
       " \"howell's\",\n",
       " 'howells',\n",
       " 'howenstine',\n",
       " 'hower',\n",
       " 'howerter',\n",
       " 'howery',\n",
       " 'howes',\n",
       " 'howeth',\n",
       " 'howey',\n",
       " 'howie',\n",
       " \"howie's\",\n",
       " 'howington',\n",
       " 'howison',\n",
       " 'howitt',\n",
       " 'howitzer',\n",
       " 'howitzers',\n",
       " 'howk',\n",
       " 'howl',\n",
       " 'howland',\n",
       " 'howle',\n",
       " 'howled',\n",
       " 'howler',\n",
       " 'howlett',\n",
       " 'howley',\n",
       " 'howling',\n",
       " 'howls',\n",
       " 'howmet',\n",
       " 'howry',\n",
       " 'howsare',\n",
       " 'howse',\n",
       " 'howsell',\n",
       " 'howser',\n",
       " 'howson',\n",
       " 'howtek',\n",
       " 'howton',\n",
       " 'howze',\n",
       " 'in-house',\n",
       " 'shouse',\n",
       " 'wachowiak']"
      ]
     },
     "execution_count": 8,
     "metadata": {},
     "output_type": "execute_result"
    }
   ],
   "source": [
    "pronouncing.search(\"HH AW1\")"
   ]
  },
  {
   "cell_type": "code",
   "execution_count": 9,
   "metadata": {},
   "outputs": [
    {
     "data": {
      "text/plain": [
       "3"
      ]
     },
     "execution_count": 9,
     "metadata": {},
     "output_type": "execute_result"
    }
   ],
   "source": [
    "pronunciation_list = pronouncing.phones_for_word(\"programming\")\n",
    "pronouncing.syllable_count(pronunciation_list[0])"
   ]
  },
  {
   "cell_type": "code",
   "execution_count": null,
   "metadata": {},
   "outputs": [],
   "source": []
  }
 ],
 "metadata": {
  "kernelspec": {
   "display_name": "Python 3",
   "language": "python",
   "name": "python3"
  },
  "language_info": {
   "codemirror_mode": {
    "name": "ipython",
    "version": 3
   },
   "file_extension": ".py",
   "mimetype": "text/x-python",
   "name": "python",
   "nbconvert_exporter": "python",
   "pygments_lexer": "ipython3",
   "version": "3.10.14"
  }
 },
 "nbformat": 4,
 "nbformat_minor": 4
}
