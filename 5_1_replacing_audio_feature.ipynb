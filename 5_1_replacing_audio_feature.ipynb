{
 "cells": [
  {
   "cell_type": "code",
   "execution_count": 2,
   "id": "e2d872a4-ae0d-42e4-bcbb-5defa291f443",
   "metadata": {},
   "outputs": [
    {
     "name": "stdout",
     "output_type": "stream",
     "text": [
      "/work/van-speech-nlp/jindaznb/jslpnb/mllm_expriments/Whispering-LLaMA/Inference/gs_inferences\n"
     ]
    }
   ],
   "source": [
    "cd Inference/gs_inferences"
   ]
  },
  {
   "cell_type": "code",
   "execution_count": 13,
   "id": "b439ecb9-3d9e-4de9-a4b5-b54b212c0c62",
   "metadata": {},
   "outputs": [],
   "source": [
    "test_speaker = 'M02'"
   ]
  },
  {
   "cell_type": "code",
   "execution_count": 9,
   "id": "5248d051-cbec-4760-9eb2-eabc2c8e8fe3",
   "metadata": {},
   "outputs": [
    {
     "data": {
      "text/plain": [
       "tensor([[[-6.7578e-01, -2.8125e-01, -4.4922e-01,  ..., -3.1406e+00,\n",
       "          -4.5117e-01,  1.4844e-01],\n",
       "         [-1.8164e-01, -3.5742e-01, -3.9062e-01,  ..., -3.2031e+00,\n",
       "          -6.2109e-01,  1.6602e-02],\n",
       "         [-1.5332e-01,  1.1670e-01,  2.5000e-01,  ..., -2.9844e+00,\n",
       "          -7.9297e-01,  2.4023e-01],\n",
       "         ...,\n",
       "         [-7.2632e-03, -6.2866e-03, -9.3994e-03,  ...,  3.9062e-03,\n",
       "          -5.1880e-03, -9.9945e-04],\n",
       "         [-8.6670e-03, -3.1433e-03, -1.0986e-02,  ...,  3.7231e-03,\n",
       "          -4.7913e-03, -2.1057e-03],\n",
       "         [-9.6436e-03,  2.1820e-03, -1.2390e-02,  ...,  2.9907e-03,\n",
       "          -9.3079e-04, -6.8054e-03]]], dtype=torch.bfloat16)"
      ]
     },
     "execution_count": 9,
     "metadata": {},
     "output_type": "execute_result"
    }
   ],
   "source": [
    "import torch\n",
    "train_data_finetuned = torch.load(f'finetuned_torgo_{test_speaker}_train.pt',map_location=torch.device('cpu'))\n",
    "train_data_finetuned[0]['audio_features']"
   ]
  },
  {
   "cell_type": "code",
   "execution_count": 10,
   "id": "74db1682-a636-4a91-8af2-71511164ff37",
   "metadata": {},
   "outputs": [
    {
     "data": {
      "text/plain": [
       "tensor([[[-6.7578e-01, -2.8125e-01, -4.4922e-01,  ..., -3.1406e+00,\n",
       "          -4.5117e-01,  1.4844e-01],\n",
       "         [-1.8164e-01, -3.5742e-01, -3.9062e-01,  ..., -3.2031e+00,\n",
       "          -6.2109e-01,  1.6602e-02],\n",
       "         [-1.5332e-01,  1.1670e-01,  2.5000e-01,  ..., -2.9844e+00,\n",
       "          -7.9297e-01,  2.4023e-01],\n",
       "         ...,\n",
       "         [-7.2632e-03, -6.2866e-03, -9.3994e-03,  ...,  3.9062e-03,\n",
       "          -5.1880e-03, -9.9945e-04],\n",
       "         [-8.6670e-03, -3.1433e-03, -1.0986e-02,  ...,  3.7231e-03,\n",
       "          -4.7913e-03, -2.1057e-03],\n",
       "         [-9.6436e-03,  2.1820e-03, -1.2390e-02,  ...,  2.9907e-03,\n",
       "          -9.3079e-04, -6.8054e-03]]], dtype=torch.bfloat16)"
      ]
     },
     "execution_count": 10,
     "metadata": {},
     "output_type": "execute_result"
    }
   ],
   "source": [
    "import torch\n",
    "train_data = torch.load(f'baseline_data/torgo_{test_speaker}_train.pt',map_location=torch.device('cpu'))\n",
    "train_data[0]['audio_features']"
   ]
  },
  {
   "cell_type": "code",
   "execution_count": 14,
   "id": "f0b11bbc-eddb-4d0c-8b78-d49482f3308a",
   "metadata": {},
   "outputs": [
    {
     "name": "stdout",
     "output_type": "stream",
     "text": [
      "Are the audio features equal? True\n"
     ]
    }
   ],
   "source": [
    "audio_features_finetuned = train_data_finetuned[0]['audio_features']\n",
    "audio_features_baseline = train_data[0]['audio_features']\n",
    "\n",
    "# Compare the audio features\n",
    "are_equal = torch.equal(audio_features_finetuned, audio_features_baseline)\n",
    "\n",
    "# Print the result\n",
    "print(f\"Are the audio features equal? {are_equal}\")"
   ]
  },
  {
   "cell_type": "code",
   "execution_count": 3,
   "id": "f5174290-c8bd-47de-b164-c88609aa3a45",
   "metadata": {},
   "outputs": [
    {
     "name": "stdout",
     "output_type": "stream",
     "text": [
      "\n"
     ]
    }
   ],
   "source": [
    "print()"
   ]
  },
  {
   "cell_type": "code",
   "execution_count": null,
   "id": "0caa6c5e-1fde-4970-9066-af63db6522f1",
   "metadata": {},
   "outputs": [],
   "source": []
  }
 ],
 "metadata": {
  "kernelspec": {
   "display_name": "Python 3 (ipykernel)",
   "language": "python",
   "name": "python3"
  },
  "language_info": {
   "codemirror_mode": {
    "name": "ipython",
    "version": 3
   },
   "file_extension": ".py",
   "mimetype": "text/x-python",
   "name": "python",
   "nbconvert_exporter": "python",
   "pygments_lexer": "ipython3",
   "version": "3.9.19"
  }
 },
 "nbformat": 4,
 "nbformat_minor": 5
}
